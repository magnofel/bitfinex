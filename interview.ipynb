{
 "cells": [
  {
   "cell_type": "code",
   "execution_count": 1,
   "metadata": {
    "collapsed": true
   },
   "outputs": [],
   "source": [
    "# Вопрос 1: генераторы списков, словарей\n",
    "\n",
    "A0 = dict(\n",
    "    zip(('a', 'b', 'c', 'd', 'e'), (1, 2, 3, 4, 5))\n",
    ")\n",
    "#: вернет словарь ключ буква -значение цифрва\n",
    "\n",
    "A1 = range(10)\n",
    "#Ответ: вернет объект range (если питон3). если питон 2 - то list\n",
    "A2 = sorted([i for i in A1 if i in A0])\n",
    "\n",
    "#Ответ: пустой список \n",
    "\n",
    "A3 = sorted([A0[s] for s in A0])\n",
    "#Ответ:отсортированный список 1-5\n",
    "\n",
    "A4 = [i for i in A1 if i in A3]\n",
    "#Ответ:отсортированный список 1-5\n",
    "A5 = {i: i * i for i in A1}\n",
    "#Ответ: словарь с квадраатами чисел 1-5\n",
    "\n",
    "A6 = [[i, i * i] for i in A1]\n",
    "#Ответ: список списков число и квадрат\n"
   ]
  },
  {
   "cell_type": "code",
   "execution_count": 8,
   "metadata": {
    "collapsed": false
   },
   "outputs": [],
   "source": [
    "# Вопрос 2: Что делает функция \n",
    "def func(a):\n",
    "    c = next(a)\n",
    "    for d in a:\n",
    "        if d > c:\n",
    "            c = d\n",
    "    return d\n",
    "\n",
    "# ответ возвращает максимальное число по итератору"
   ]
  },
  {
   "cell_type": "code",
   "execution_count": 19,
   "metadata": {
    "collapsed": false
   },
   "outputs": [
    {
     "name": "stdout",
     "output_type": "stream",
     "text": [
      "[8, 12, 15]\n"
     ]
    }
   ],
   "source": [
    "# Вопрос 3: функции высших порядков что вернет\n",
    "\n",
    "res = map(\n",
    "    lambda x: sum(x), [[1, 2, 5], [2, 2, 8], [10, 5]]\n",
    ")\n",
    "\n",
    "print(list(res))"
   ]
  },
  {
   "cell_type": "code",
   "execution_count": 21,
   "metadata": {
    "collapsed": false
   },
   "outputs": [
    {
     "name": "stdout",
     "output_type": "stream",
     "text": [
      "('two', 'one')\n"
     ]
    }
   ],
   "source": [
    "#Вопрос 4 декораторы\n",
    "from functools import wraps\n",
    "\n",
    "def auth():\n",
    "    return True\n",
    "\n",
    "class NotAuth(Exception):\n",
    "    pass\n",
    "\n",
    "def decorator(f):\n",
    "    @wraps(f)\n",
    "    def wrapper(*args, **kwargs):\n",
    "        if auth():\n",
    "            return f(*args, **kwargs)\n",
    "        raise NotAuth(\"Sorry, you aren't authorized!\")\n",
    "\n",
    "    return wrapper\n",
    "\n",
    "\n",
    "@decorator\n",
    "def test(a, b):\n",
    "    return b, a\n",
    "\n",
    "\n",
    "print(test('one', 'two'))\n"
   ]
  },
  {
   "cell_type": "code",
   "execution_count": 22,
   "metadata": {
    "collapsed": true
   },
   "outputs": [],
   "source": [
    "#Вопрос 5 как вызвать конструктора класса предка из класса наследника\n",
    "#Ответ super(BaseClass, self).__init__(data)\n",
    "\n"
   ]
  },
  {
   "cell_type": "code",
   "execution_count": 23,
   "metadata": {
    "collapsed": false
   },
   "outputs": [
    {
     "ename": "TypeError",
     "evalue": "unhashable type: 'list'",
     "output_type": "error",
     "traceback": [
      "\u001b[0;31m---------------------------------------------------------------------------\u001b[0m",
      "\u001b[0;31mTypeError\u001b[0m                                 Traceback (most recent call last)",
      "\u001b[0;32m<ipython-input-23-d006b4239b76>\u001b[0m in \u001b[0;36m<module>\u001b[0;34m()\u001b[0m\n\u001b[1;32m      1\u001b[0m \u001b[0;31m# Вопрос 6 Что будет если выполнить\u001b[0m\u001b[0;34m\u001b[0m\u001b[0;34m\u001b[0m\u001b[0m\n\u001b[0;32m----> 2\u001b[0;31m \u001b[0;34m{\u001b[0m\u001b[0;34m[\u001b[0m\u001b[0;36m1\u001b[0m\u001b[0;34m,\u001b[0m\u001b[0;36m1\u001b[0m\u001b[0;34m]\u001b[0m\u001b[0;34m:\u001b[0m\u001b[0;36m1\u001b[0m\u001b[0;34m}\u001b[0m\u001b[0;34m\u001b[0m\u001b[0m\n\u001b[0m",
      "\u001b[0;31mTypeError\u001b[0m: unhashable type: 'list'"
     ]
    }
   ],
   "source": [
    "# Вопрос 6 Что вернет\n",
    "{[1,1]:1}"
   ]
  },
  {
   "cell_type": "code",
   "execution_count": null,
   "metadata": {
    "collapsed": true
   },
   "outputs": [],
   "source": [
    "#Вопрос 7 pandas\n",
    "df = pd.DataFrame(['ff', 'gg', 'hh', 'yy'],\n",
    "              [24, 12, 48, 30],\n",
    "               columns = ['Name', 'Age'])\n",
    "\n",
    "# в чем отличия?\n",
    "df['Name'] \n",
    "df.loc[:, 'Name']\n",
    "# ответ - 1 - это копия, 2 это view"
   ]
  }
 ],
 "metadata": {
  "kernelspec": {
   "display_name": "Python 3",
   "language": "python",
   "name": "python3"
  },
  "language_info": {
   "codemirror_mode": {
    "name": "ipython",
    "version": 3
   },
   "file_extension": ".py",
   "mimetype": "text/x-python",
   "name": "python",
   "nbconvert_exporter": "python",
   "pygments_lexer": "ipython3",
   "version": "3.6.0"
  }
 },
 "nbformat": 4,
 "nbformat_minor": 2
}
